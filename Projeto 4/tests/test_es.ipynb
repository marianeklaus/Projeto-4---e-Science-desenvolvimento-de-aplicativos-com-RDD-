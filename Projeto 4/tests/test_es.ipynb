{
 "cells": [
  {
   "cell_type": "markdown",
   "id": "cbadba1c-0909-4ef0-a207-48693be909e7",
   "metadata": {},
   "source": [
    "# Módulo de entrada e sapida (es)"
   ]
  },
  {
   "cell_type": "markdown",
   "id": "2456d6ab-82db-4069-a5f2-19d680692430",
   "metadata": {},
   "source": [
    "## Requisito 1 - Função leitor_pontos() -> lista com pontos\n"
   ]
  },
  {
   "cell_type": "code",
   "execution_count": 3,
   "id": "4d0e0e48-a749-44d9-9201-83514fdda9b8",
   "metadata": {
    "tags": []
   },
   "outputs": [],
   "source": [
    "import numpy as np\n",
    "\n",
    "def leitor_pontos() -> list:\n",
    "    \"\"\"Retorna uma lista de ndarrays\"\"\"\n",
    "    pass\n"
   ]
  },
  {
   "cell_type": "code",
   "execution_count": 16,
   "id": "9ccc3d63-7445-4768-a017-aed905ac12a9",
   "metadata": {
    "tags": []
   },
   "outputs": [
    {
     "name": "stdin",
     "output_type": "stream",
     "text": [
      "Digite a coordenada x1 que deseja operar 1\n",
      "Digite a coordenada x2 que deseja operar 2\n"
     ]
    },
    {
     "data": {
      "text/plain": [
       "[1.0, 2.0]"
      ]
     },
     "execution_count": 16,
     "metadata": {},
     "output_type": "execute_result"
    }
   ],
   "source": [
    "def leitor_pontos_x() -> list:\n",
    "    \"\"\"Esta função cria uma lista e com dois números digitados e a grava\"\"\"\n",
    "    i = 0\n",
    "    numeros_x = []\n",
    "    while i < 2:\n",
    "        numeros_x.append(float(input(f\"Digite a coordenada x{i+1} que deseja operar, de forma ordenada\")))\n",
    "        i+= 1\n",
    "    return numeros_x\n",
    "leitor_pontos_x()"
   ]
  },
  {
   "cell_type": "code",
   "execution_count": 17,
   "id": "96791c19-d72b-45fe-aa95-3e8b83947cdb",
   "metadata": {
    "tags": []
   },
   "outputs": [
    {
     "name": "stdin",
     "output_type": "stream",
     "text": [
      "Digite a coordenada y1 que deseja operar 3\n",
      "Digite a coordenada y2 que deseja operar 4\n"
     ]
    },
    {
     "data": {
      "text/plain": [
       "[3.0, 4.0]"
      ]
     },
     "execution_count": 17,
     "metadata": {},
     "output_type": "execute_result"
    }
   ],
   "source": [
    "def leitor_pontos_y() -> list:\n",
    "    \"\"\"Esta função cria uma lista e com dois números digitados e a grava\"\"\"\n",
    "    i = 0\n",
    "    numeros_y = []\n",
    "    while i < 2:\n",
    "        numeros_y.append(float(input(f\"Digite a coordenada y{i+1} que deseja operar\")))\n",
    "        i+= 1\n",
    "    return numeros_y\n",
    "leitor_pontos_y()"
   ]
  },
  {
   "cell_type": "code",
   "execution_count": 23,
   "id": "00266915-ce67-4f13-9835-689904fa0da8",
   "metadata": {
    "tags": []
   },
   "outputs": [
    {
     "name": "stdin",
     "output_type": "stream",
     "text": [
      "Digite a coordenada x1 que deseja operar 1\n",
      "Digite a coordenada x2 que deseja operar 2\n",
      "Digite a coordenada y1 que deseja operar 3\n",
      "Digite a coordenada y2 que deseja operar 4\n"
     ]
    },
    {
     "data": {
      "text/plain": [
       "[[1.0, 2.0], [3.0, 4.0]]"
      ]
     },
     "execution_count": 23,
     "metadata": {},
     "output_type": "execute_result"
    }
   ],
   "source": [
    "def pontos() -> list:\n",
    "    lista_numeros_x = leitor_pontos_teste_x()\n",
    "    lista_numeros_y = leitor_pontos_teste_y()\n",
    "    return [lista_numeros_x, lista_numeros_y]\n",
    "pontos()\n",
    "\n"
   ]
  },
  {
   "cell_type": "code",
   "execution_count": null,
   "id": "29df3220-b3bc-41a5-a2ae-0ad5835f9906",
   "metadata": {},
   "outputs": [],
   "source": [
    "\"\"\"Precisa ordenar os pontos em x\"\"\""
   ]
  },
  {
   "cell_type": "markdown",
   "id": "8ef280a7-91f5-4e84-8824-2708636ef0f4",
   "metadata": {},
   "source": [
    "## Requisito 2 - função plota_grafico(lista com pontos) e imprimir o gráfico"
   ]
  },
  {
   "cell_type": "code",
   "execution_count": 26,
   "id": "40367b1f-912c-435a-b987-1371c84661da",
   "metadata": {
    "tags": []
   },
   "outputs": [],
   "source": [
    "import numpy as np\n",
    "import matplotlib as mpl\n",
    "import matplotlib.pyplot as plot\n",
    "from scipy import interpolate\n",
    "\n",
    "def plota_grafico(pontos: list) -> None:\n",
    "    \"\"\"Esta função plota o gráfico dada uma lista de pontos\"\"\"\n",
    "    return plt.plot(x, y, 'o',pontos[0],pontos[1], '-')\n",
    "    \n",
    "    plt.show()\n",
    "    "
   ]
  },
  {
   "cell_type": "code",
   "execution_count": null,
   "id": "836bb3bb-76ea-428b-b51e-e5fdc0237d34",
   "metadata": {},
   "outputs": [],
   "source": []
  }
 ],
 "metadata": {
  "kernelspec": {
   "display_name": "Python 3 (ipykernel)",
   "language": "python",
   "name": "python3"
  },
  "language_info": {
   "codemirror_mode": {
    "name": "ipython",
    "version": 3
   },
   "file_extension": ".py",
   "mimetype": "text/x-python",
   "name": "python",
   "nbconvert_exporter": "python",
   "pygments_lexer": "ipython3",
   "version": "3.11.5"
  }
 },
 "nbformat": 4,
 "nbformat_minor": 5
}
