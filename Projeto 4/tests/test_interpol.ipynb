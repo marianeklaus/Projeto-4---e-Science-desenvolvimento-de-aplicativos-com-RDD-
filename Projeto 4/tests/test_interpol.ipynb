{
 "cells": [
  {
   "cell_type": "markdown",
   "id": "7a0d03d3-b54d-4b21-a52f-2aeb7d6c0f6e",
   "metadata": {},
   "source": [
    "# Modulo interpol \n",
    "\n",
    "Este módulo oferece uma função de interpolação usando a biblioteca Python Scipy.\n"
   ]
  },
  {
   "cell_type": "markdown",
   "id": "c286da4b-6b45-4468-9eb9-c7efeb4f53e9",
   "metadata": {},
   "source": [
    "## Requisito 2 - Função ajusta_curva(lista com pontos) -> funcao"
   ]
  },
  {
   "cell_type": "markdown",
   "id": "1b1a4f1b-14b1-4b77-aa52-4b446d041a37",
   "metadata": {},
   "source": [
    "# Exemplo\n"
   ]
  },
  {
   "cell_type": "code",
   "execution_count": 4,
   "id": "240ef42b-5483-4b5a-9699-5ca9bec85dd5",
   "metadata": {
    "tags": []
   },
   "outputs": [],
   "source": [
    "from collections.abc import Callable\n",
    "import numpy as np\n",
    "from scipy import interpolate\n",
    "\n",
    "def ajusta_curva(pontos: list) -> Callable:\n",
    "    \"\"\"Esta função retorna a função de interpolação da lista de pontos recebidos\"\"\"\n",
    "    pass"
   ]
  },
  {
   "cell_type": "markdown",
   "id": "9b65763a-eec3-4292-ac9f-d08eb185a90c",
   "metadata": {},
   "source": [
    "## Exemplo da biblioteca Scipy\n",
    "\n",
    "Referência: [Função interp1d] https://docs.scipy.org/doc/scipy/reference/generated/scipy.interpolate.interp1d.html#scipy-interpolate-interp1d"
   ]
  },
  {
   "cell_type": "code",
   "execution_count": 18,
   "id": "5436c8cc-ae51-42fc-8986-01ad0002c630",
   "metadata": {
    "tags": []
   },
   "outputs": [
    {
     "name": "stdout",
     "output_type": "stream",
     "text": [
      "<scipy.interpolate._interpolate.interp1d object at 0x0000025C627714A0>\n"
     ]
    }
   ],
   "source": [
    "import numpy as np\n",
    "import matplotlib.pyplot as plt\n",
    "from scipy import interpolate\n",
    "\n",
    "# Atribuição de variáveis\n",
    "\n",
    "x= np.arange(0,10)\n",
    "y = np.exp(-x/3.0)\n",
    "f = interpolate.interp1d(x,y)\n",
    "print(f)\n"
   ]
  },
  {
   "cell_type": "code",
   "execution_count": null,
   "id": "9f2f743e-a4ae-4b94-b04d-a295e3a544a0",
   "metadata": {
    "tags": []
   },
   "outputs": [],
   "source": []
  },
  {
   "cell_type": "code",
   "execution_count": 21,
   "id": "68066387-a5b5-48d3-9db5-f1a9277435fb",
   "metadata": {
    "tags": []
   },
   "outputs": [
    {
     "data": {
      "image/png": "[encoded data removed]",
      "text/plain": [
       "<Figure size 640x480 with 1 Axes>"
      ]
     },
     "metadata": {},
     "output_type": "display_data"
    }
   ],
   "source": [
    "xnew = np.arange(0,9,0.1)\n",
    "ynew = f(xnew)\n",
    "plt.plot(x, y, 'o', xnew, ynew, '-')\n",
    "plt.show()"
   ]
  },
  {
   "cell_type": "markdown",
   "id": "80a22729-fdce-4621-9a0c-0fa002f8a09c",
   "metadata": {
    "tags": []
   },
   "source": [
    "# Execução "
   ]
  },
  {
   "cell_type": "code",
   "execution_count": 23,
   "id": "fb829088-ffde-4014-995b-ee1c940f2266",
   "metadata": {
    "tags": []
   },
   "outputs": [],
   "source": [
    "from collections.abc import Callable\n",
    "import numpy as np\n",
    "from scipy import interpolate\n",
    "\n",
    "def ajusta_curva(pontos: list) -> Callable:\n",
    "    \"\"\"Esta função retorna a função de interpolação da lista de pontos recebidos\"\"\"\n",
    "    return interpolate.interp1d(pontos[0],pontos[1])"
   ]
  }
 ],
 "metadata": {
  "kernelspec": {
   "display_name": "Python 3 (ipykernel)",
   "language": "python",
   "name": "python3"
  },
  "language_info": {
   "codemirror_mode": {
    "name": "ipython",
    "version": 3
   },
   "file_extension": ".py",
   "mimetype": "text/x-python",
   "name": "python",
   "nbconvert_exporter": "python",
   "pygments_lexer": "ipython3",
   "version": "3.11.5"
  }
 },
 "nbformat": 4,
 "nbformat_minor": 5
}
